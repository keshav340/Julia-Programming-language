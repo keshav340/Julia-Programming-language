{
 "cells": [
  {
   "cell_type": "markdown",
   "id": "0cd34a88",
   "metadata": {},
   "source": [
    "**A function is an object that maps a tuple of argument values to a return value**"
   ]
  },
  {
   "cell_type": "code",
   "execution_count": null,
   "id": "6c06e803",
   "metadata": {},
   "outputs": [],
   "source": [
    "function hello()\n",
    "           println(\"hello world\")\n",
    "       end"
   ]
  },
  {
   "cell_type": "code",
   "execution_count": 2,
   "id": "57be8ebb",
   "metadata": {},
   "outputs": [
    {
     "name": "stdout",
     "output_type": "stream",
     "text": [
      "hello world\n"
     ]
    }
   ],
   "source": [
    "hello()"
   ]
  },
  {
   "cell_type": "code",
   "execution_count": 3,
   "id": "8803e54e",
   "metadata": {},
   "outputs": [
    {
     "data": {
      "text/plain": [
       "calculator (generic function with 1 method)"
      ]
     },
     "execution_count": 3,
     "metadata": {},
     "output_type": "execute_result"
    }
   ],
   "source": [
    "function calculator(x, y, operation)\n",
    "           if operation == \"+\"\n",
    "               x+y\n",
    "           elseif operation == \"-\"\n",
    "               x-y\n",
    "           elseif operation == \"*\"\n",
    "               x*y\n",
    "           elseif operation == \"/\"\n",
    "               x/y\n",
    "           else\n",
    "               println(\"Incorrect operation\")\n",
    "               return 0\n",
    "           end\n",
    "       end"
   ]
  },
  {
   "cell_type": "code",
   "execution_count": 4,
   "id": "23ca17cb",
   "metadata": {},
   "outputs": [
    {
     "data": {
      "text/plain": [
       "30"
      ]
     },
     "execution_count": 4,
     "metadata": {},
     "output_type": "execute_result"
    }
   ],
   "source": [
    "calculator(10,20, \"+\")"
   ]
  },
  {
   "cell_type": "code",
   "execution_count": 5,
   "id": "a918e6b4",
   "metadata": {},
   "outputs": [
    {
     "data": {
      "text/plain": [
       "200"
      ]
     },
     "execution_count": 5,
     "metadata": {},
     "output_type": "execute_result"
    }
   ],
   "source": [
    "calculator(10,20, \"*\")"
   ]
  },
  {
   "cell_type": "code",
   "execution_count": 6,
   "id": "28a4c906",
   "metadata": {},
   "outputs": [
    {
     "data": {
      "text/plain": [
       "f (generic function with 1 method)"
      ]
     },
     "execution_count": 6,
     "metadata": {},
     "output_type": "execute_result"
    }
   ],
   "source": [
    "# Compact form\n",
    "f(x,y) = x^2 + y^2"
   ]
  },
  {
   "cell_type": "code",
   "execution_count": 7,
   "id": "fe8bd912",
   "metadata": {},
   "outputs": [
    {
     "data": {
      "text/plain": [
       "500"
      ]
     },
     "execution_count": 7,
     "metadata": {},
     "output_type": "execute_result"
    }
   ],
   "source": [
    "f(10,20)"
   ]
  },
  {
   "cell_type": "markdown",
   "id": "0bcfa427",
   "metadata": {},
   "source": [
    "**In pass by sharing, we see that variables passed as arguments are not copied.\n",
    "  Instead, the function arguments themselves act as new bindings, which\n",
    "    refer to the same values as those passed.**"
   ]
  },
  {
   "cell_type": "code",
   "execution_count": 15,
   "id": "4cabdb33",
   "metadata": {},
   "outputs": [
    {
     "data": {
      "text/plain": [
       "add_without_return (generic function with 1 method)"
      ]
     },
     "execution_count": 15,
     "metadata": {},
     "output_type": "execute_result"
    }
   ],
   "source": [
    "# function returns the value computed in the last statement\n",
    "function add_without_return(x,y)\n",
    "               x+y\n",
    "       end"
   ]
  },
  {
   "cell_type": "code",
   "execution_count": 16,
   "id": "49c86204",
   "metadata": {},
   "outputs": [
    {
     "data": {
      "text/plain": [
       "50"
      ]
     },
     "execution_count": 16,
     "metadata": {},
     "output_type": "execute_result"
    }
   ],
   "source": [
    "add_without_return(20,30)"
   ]
  },
  {
   "cell_type": "code",
   "execution_count": 17,
   "id": "a4010252",
   "metadata": {},
   "outputs": [
    {
     "data": {
      "text/plain": [
       "add_using_return (generic function with 1 method)"
      ]
     },
     "execution_count": 17,
     "metadata": {},
     "output_type": "execute_result"
    }
   ],
   "source": [
    "# function with return statement\n",
    "function add_using_return(x,y)\n",
    "        return x+y\n",
    "       end"
   ]
  },
  {
   "cell_type": "code",
   "execution_count": 18,
   "id": "b299d1d1",
   "metadata": {},
   "outputs": [
    {
     "data": {
      "text/plain": [
       "50"
      ]
     },
     "execution_count": 18,
     "metadata": {},
     "output_type": "execute_result"
    }
   ],
   "source": [
    "add_using_return(20,30)"
   ]
  },
  {
   "cell_type": "code",
   "execution_count": 8,
   "id": "aac79712",
   "metadata": {},
   "outputs": [
    {
     "data": {
      "text/plain": [
       "say_hello (generic function with 1 method)"
      ]
     },
     "execution_count": 8,
     "metadata": {},
     "output_type": "execute_result"
    }
   ],
   "source": [
    "# passing arguments\n",
    "function say_hello(name)\n",
    "    println(\"hello $name\")\n",
    "end"
   ]
  },
  {
   "cell_type": "code",
   "execution_count": 9,
   "id": "7e69c85f",
   "metadata": {},
   "outputs": [
    {
     "data": {
      "text/plain": [
       "\"keshav\""
      ]
     },
     "execution_count": 9,
     "metadata": {},
     "output_type": "execute_result"
    }
   ],
   "source": [
    "name = \"keshav\""
   ]
  },
  {
   "cell_type": "code",
   "execution_count": 10,
   "id": "50976e30",
   "metadata": {},
   "outputs": [
    {
     "name": "stdout",
     "output_type": "stream",
     "text": [
      "hello keshav\n"
     ]
    }
   ],
   "source": [
    "say_hello(name)"
   ]
  },
  {
   "cell_type": "code",
   "execution_count": 11,
   "id": "66e91e7e",
   "metadata": {},
   "outputs": [
    {
     "data": {
      "text/plain": [
       "say_hello (generic function with 2 methods)"
      ]
     },
     "execution_count": 11,
     "metadata": {},
     "output_type": "execute_result"
    }
   ],
   "source": [
    "# explicitly defining the type\n",
    "function say_hello(name::String)\n",
    "    println(\"hello $name\")\n",
    "end"
   ]
  },
  {
   "cell_type": "code",
   "execution_count": 12,
   "id": "7f213f33",
   "metadata": {},
   "outputs": [
    {
     "name": "stdout",
     "output_type": "stream",
     "text": [
      "hello rahul\n"
     ]
    }
   ],
   "source": [
    "say_hello(\"rahul\")"
   ]
  },
  {
   "cell_type": "code",
   "execution_count": 21,
   "id": "e6e2e434",
   "metadata": {},
   "outputs": [
    {
     "data": {
      "text/plain": [
       "does_nothing (generic function with 0 methods)"
      ]
     },
     "execution_count": 21,
     "metadata": {},
     "output_type": "execute_result"
    }
   ],
   "source": [
    "#No argument\n",
    "function does_nothing\n",
    "     end "
   ]
  },
  {
   "cell_type": "code",
   "execution_count": null,
   "id": "85ee63a4",
   "metadata": {},
   "outputs": [],
   "source": []
  },
  {
   "cell_type": "code",
   "execution_count": 13,
   "id": "35675a81",
   "metadata": {},
   "outputs": [
    {
     "data": {
      "text/plain": [
       "letsplay (generic function with 1 method)"
      ]
     },
     "execution_count": 13,
     "metadata": {},
     "output_type": "execute_result"
    }
   ],
   "source": [
    "# Variable arguments\n",
    "function letsplay(x,y...)\n",
    "    println(x)\n",
    "    println(y)\n",
    "end"
   ]
  },
  {
   "cell_type": "code",
   "execution_count": 14,
   "id": "2ca9cacc",
   "metadata": {},
   "outputs": [
    {
     "name": "stdout",
     "output_type": "stream",
     "text": [
      "cricket\n",
      "(\"hockey\", \"tennis\")\n"
     ]
    }
   ],
   "source": [
    "letsplay(\"cricket\",\"hockey\",\"tennis\")"
   ]
  },
  {
   "cell_type": "code",
   "execution_count": 22,
   "id": "3293354b",
   "metadata": {},
   "outputs": [
    {
     "data": {
      "text/plain": [
       "f (generic function with 3 methods)"
      ]
     },
     "execution_count": 22,
     "metadata": {},
     "output_type": "execute_result"
    }
   ],
   "source": [
    "#Optional Argument\n",
    "function f(x, y=4, z=10)\n",
    "    x+y+z\n",
    "end"
   ]
  },
  {
   "cell_type": "code",
   "execution_count": 23,
   "id": "07e16784",
   "metadata": {},
   "outputs": [
    {
     "data": {
      "text/plain": [
       "24"
      ]
     },
     "execution_count": 23,
     "metadata": {},
     "output_type": "execute_result"
    }
   ],
   "source": [
    "f(10)"
   ]
  },
  {
   "cell_type": "code",
   "execution_count": 24,
   "id": "e5f760d8",
   "metadata": {},
   "outputs": [
    {
     "data": {
      "text/plain": [
       "40"
      ]
     },
     "execution_count": 24,
     "metadata": {},
     "output_type": "execute_result"
    }
   ],
   "source": [
    "f(10,20)"
   ]
  },
  {
   "cell_type": "code",
   "execution_count": 25,
   "id": "a6812a0d",
   "metadata": {},
   "outputs": [
    {
     "data": {
      "text/plain": [
       "outer (generic function with 1 method)"
      ]
     },
     "execution_count": 25,
     "metadata": {},
     "output_type": "execute_result"
    }
   ],
   "source": [
    "# Nested functions\n",
    " function outer(value_a)\n",
    "               function inner(value_b)\n",
    "                       return value_a * value_b\n",
    "               end\n",
    "       end"
   ]
  },
  {
   "cell_type": "code",
   "execution_count": 26,
   "id": "0da30e12",
   "metadata": {},
   "outputs": [
    {
     "data": {
      "text/plain": [
       "(::var\"#inner#1\"{Int64}) (generic function with 1 method)"
      ]
     },
     "execution_count": 26,
     "metadata": {},
     "output_type": "execute_result"
    }
   ],
   "source": [
    "result = outer(10)"
   ]
  },
  {
   "cell_type": "code",
   "execution_count": 28,
   "id": "7dc8f820",
   "metadata": {},
   "outputs": [
    {
     "data": {
      "text/plain": [
       "110"
      ]
     },
     "execution_count": 28,
     "metadata": {},
     "output_type": "execute_result"
    }
   ],
   "source": [
    "result(11)"
   ]
  },
  {
   "cell_type": "code",
   "execution_count": 29,
   "id": "b4a098aa",
   "metadata": {},
   "outputs": [
    {
     "data": {
      "text/plain": [
       "generate_fibonacci (generic function with 1 method)"
      ]
     },
     "execution_count": 29,
     "metadata": {},
     "output_type": "execute_result"
    }
   ],
   "source": [
    "# Recursion\n",
    "function generate_fibonacci(n::Int64)\n",
    "           if n < 2\n",
    "               return 1\n",
    "           else \n",
    "               return generate_fibonacci(n-1) + generate_fibonacci(n-2)\n",
    "           end\n",
    "       end\n",
    "#generate_fibonacci(n) = n < 2 ? n : generate_fibonacci(n - 1) + generate_fibonacci(n - 2)"
   ]
  },
  {
   "cell_type": "code",
   "execution_count": 30,
   "id": "4c5c1618",
   "metadata": {},
   "outputs": [
    {
     "data": {
      "text/plain": [
       "5"
      ]
     },
     "execution_count": 30,
     "metadata": {},
     "output_type": "execute_result"
    }
   ],
   "source": [
    "generate_fibonacci(4)"
   ]
  },
  {
   "cell_type": "code",
   "execution_count": 31,
   "id": "1972a625",
   "metadata": {},
   "outputs": [
    {
     "data": {
      "text/plain": [
       "add_numbers (generic function with 1 method)"
      ]
     },
     "execution_count": 31,
     "metadata": {},
     "output_type": "execute_result"
    }
   ],
   "source": [
    " function add_numbers(num1::Int64, num2::Int64)\n",
    "           return num1 + num2 \n",
    "       end"
   ]
  },
  {
   "cell_type": "code",
   "execution_count": 32,
   "id": "756d8401",
   "metadata": {},
   "outputs": [
    {
     "data": {
      "text/plain": [
       "30"
      ]
     },
     "execution_count": 32,
     "metadata": {},
     "output_type": "execute_result"
    }
   ],
   "source": [
    "add_numbers(10,20)"
   ]
  },
  {
   "cell_type": "code",
   "execution_count": 33,
   "id": "8b6b66db",
   "metadata": {},
   "outputs": [
    {
     "data": {
      "text/plain": [
       "add_without_types (generic function with 1 method)"
      ]
     },
     "execution_count": 33,
     "metadata": {},
     "output_type": "execute_result"
    }
   ],
   "source": [
    " function add_without_types(num1,num2)\n",
    "           return num1+num2\n",
    "       end"
   ]
  },
  {
   "cell_type": "code",
   "execution_count": 34,
   "id": "b6a485ef",
   "metadata": {},
   "outputs": [
    {
     "data": {
      "text/plain": [
       "30"
      ]
     },
     "execution_count": 34,
     "metadata": {},
     "output_type": "execute_result"
    }
   ],
   "source": [
    "add_without_types(10,20)"
   ]
  },
  {
   "cell_type": "code",
   "execution_count": null,
   "id": "c9a93cf3",
   "metadata": {},
   "outputs": [],
   "source": []
  }
 ],
 "metadata": {
  "kernelspec": {
   "display_name": "Julia 1.6.1",
   "language": "julia",
   "name": "julia-1.6"
  },
  "language_info": {
   "file_extension": ".jl",
   "mimetype": "application/julia",
   "name": "julia",
   "version": "1.6.1"
  }
 },
 "nbformat": 4,
 "nbformat_minor": 5
}
