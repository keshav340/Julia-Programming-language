{
 "cells": [
  {
   "cell_type": "markdown",
   "id": "f04c4dc4",
   "metadata": {},
   "source": [
    "**String is a Sequence of chracters and it is immutable**"
   ]
  },
  {
   "cell_type": "code",
   "execution_count": 7,
   "id": "245992f5",
   "metadata": {},
   "outputs": [
    {
     "data": {
      "text/plain": [
       "\"Welcome to  the repository\""
      ]
     },
     "execution_count": 7,
     "metadata": {},
     "output_type": "execute_result"
    }
   ],
   "source": [
    "s = \"Welcome to  the repository\""
   ]
  },
  {
   "cell_type": "code",
   "execution_count": 8,
   "id": "63ce16d9",
   "metadata": {},
   "outputs": [
    {
     "data": {
      "text/plain": [
       "\"Welcome to  the repository of Keshav Sharma\""
      ]
     },
     "execution_count": 8,
     "metadata": {},
     "output_type": "execute_result"
    }
   ],
   "source": [
    "sp = string(s , \" of Keshav Sharma\")\n",
    "# sp*\"hello\""
   ]
  },
  {
   "cell_type": "code",
   "execution_count": 11,
   "id": "94ffdb94",
   "metadata": {},
   "outputs": [
    {
     "data": {
      "text/plain": [
       "\"come to  \""
      ]
     },
     "execution_count": 11,
     "metadata": {},
     "output_type": "execute_result"
    }
   ],
   "source": [
    "sub = SubString(sp,4,12)"
   ]
  },
  {
   "cell_type": "code",
   "execution_count": 12,
   "id": "30292116",
   "metadata": {},
   "outputs": [
    {
     "data": {
      "text/plain": [
       "SubString{String}"
      ]
     },
     "execution_count": 12,
     "metadata": {},
     "output_type": "execute_result"
    }
   ],
   "source": [
    "typeof(sub)"
   ]
  },
  {
   "cell_type": "code",
   "execution_count": 13,
   "id": "4ddafccd",
   "metadata": {},
   "outputs": [
    {
     "data": {
      "text/plain": [
       "\"welcome to  the repository\""
      ]
     },
     "execution_count": 13,
     "metadata": {},
     "output_type": "execute_result"
    }
   ],
   "source": [
    "lowercase(s)"
   ]
  },
  {
   "cell_type": "code",
   "execution_count": 14,
   "id": "cd4fa810",
   "metadata": {},
   "outputs": [
    {
     "data": {
      "text/plain": [
       "\"WELCOME TO  THE REPOSITORY\""
      ]
     },
     "execution_count": 14,
     "metadata": {},
     "output_type": "execute_result"
    }
   ],
   "source": [
    "uppercase(s)"
   ]
  },
  {
   "cell_type": "code",
   "execution_count": 15,
   "id": "57a332a4",
   "metadata": {},
   "outputs": [
    {
     "data": {
      "text/plain": [
       "26"
      ]
     },
     "execution_count": 15,
     "metadata": {},
     "output_type": "execute_result"
    }
   ],
   "source": [
    "length(s)"
   ]
  },
  {
   "cell_type": "code",
   "execution_count": 16,
   "id": "726edc37",
   "metadata": {},
   "outputs": [
    {
     "data": {
      "text/plain": [
       "true"
      ]
     },
     "execution_count": 16,
     "metadata": {},
     "output_type": "execute_result"
    }
   ],
   "source": [
    "startswith(s,\"W\")"
   ]
  },
  {
   "cell_type": "code",
   "execution_count": 17,
   "id": "8459799b",
   "metadata": {},
   "outputs": [
    {
     "data": {
      "text/plain": [
       "false"
      ]
     },
     "execution_count": 17,
     "metadata": {},
     "output_type": "execute_result"
    }
   ],
   "source": [
    "endswith(s,\"Y\")"
   ]
  },
  {
   "cell_type": "code",
   "execution_count": 18,
   "id": "9d8d6079",
   "metadata": {},
   "outputs": [
    {
     "data": {
      "text/plain": [
       "\"his is computed as the number of code unit indices from i to j\\nwhich are valid character indices. With only a single string argument.\\n\""
      ]
     },
     "execution_count": 18,
     "metadata": {},
     "output_type": "execute_result"
    }
   ],
   "source": [
    "str = \"\"\"\n",
    "his is computed as the number of code unit indices from i to j\n",
    "which are valid character indices. With only a single string argument.\n",
    "\"\"\"\n"
   ]
  },
  {
   "cell_type": "code",
   "execution_count": 20,
   "id": "165172c1",
   "metadata": {},
   "outputs": [
    {
     "data": {
      "text/plain": [
       "6"
      ]
     },
     "execution_count": 20,
     "metadata": {},
     "output_type": "execute_result"
    }
   ],
   "source": [
    "findfirst(isequal('m'),s)"
   ]
  },
  {
   "cell_type": "code",
   "execution_count": 21,
   "id": "02bfe80b",
   "metadata": {},
   "outputs": [
    {
     "data": {
      "text/plain": [
       "6"
      ]
     },
     "execution_count": 21,
     "metadata": {},
     "output_type": "execute_result"
    }
   ],
   "source": [
    "findlast(isequal('m'),s)"
   ]
  },
  {
   "cell_type": "code",
   "execution_count": 24,
   "id": "da999d4f",
   "metadata": {},
   "outputs": [
    {
     "data": {
      "text/plain": [
       "1"
      ]
     },
     "execution_count": 24,
     "metadata": {},
     "output_type": "execute_result"
    }
   ],
   "source": [
    "findprev('h',str,4)"
   ]
  },
  {
   "cell_type": "code",
   "execution_count": 26,
   "id": "efdf1e20",
   "metadata": {},
   "outputs": [
    {
     "data": {
      "text/plain": [
       "false"
      ]
     },
     "execution_count": 26,
     "metadata": {},
     "output_type": "execute_result"
    }
   ],
   "source": [
    "occursin(\"MY\",s)"
   ]
  },
  {
   "cell_type": "code",
   "execution_count": 27,
   "id": "7c06c97f",
   "metadata": {},
   "outputs": [
    {
     "data": {
      "text/plain": [
       "\"keshavkeshavkeshavkeshavkeshavkeshavkeshavkeshavkeshavkeshavkeshavkeshavkeshavkeshavkeshavkeshavkeshavkeshavkeshavkeshavkeshavkeshavkeshavkeshavkeshavkeshavkeshavkeshavkeshavkeshavkeshavkeshavkeshavkeshavkeshavkeshavkeshavkeshavkeshavkeshavkeshavkeshavkeshavkeshavkeshavkeshavkeshavkeshavkeshavkeshav\""
      ]
     },
     "execution_count": 27,
     "metadata": {},
     "output_type": "execute_result"
    }
   ],
   "source": [
    "repeat(\"keshav\",50)"
   ]
  },
  {
   "cell_type": "code",
   "execution_count": 28,
   "id": "c8eb68a8",
   "metadata": {},
   "outputs": [
    {
     "data": {
      "text/plain": [
       "\"his is computed as the number of code unit indices from i to j\\nwhich are valid character indices. With only a single string argument.\""
      ]
     },
     "execution_count": 28,
     "metadata": {},
     "output_type": "execute_result"
    }
   ],
   "source": [
    "chop(str)"
   ]
  },
  {
   "cell_type": "code",
   "execution_count": 29,
   "id": "01b79128",
   "metadata": {},
   "outputs": [
    {
     "data": {
      "text/plain": [
       "\"is computed as the number of code unit indices from i to j\\nwhich are valid character indices. With only a single string argument.\""
      ]
     },
     "execution_count": 29,
     "metadata": {},
     "output_type": "execute_result"
    }
   ],
   "source": [
    "chop(str,head = 4)"
   ]
  },
  {
   "cell_type": "code",
   "execution_count": 30,
   "id": "f7cc5d4b",
   "metadata": {},
   "outputs": [
    {
     "data": {
      "text/plain": [
       "\"is computed as the number of code unit indices from i to j\\nwhich are valid character indices. With only a single string argum\""
      ]
     },
     "execution_count": 30,
     "metadata": {},
     "output_type": "execute_result"
    }
   ],
   "source": [
    "chop(str,head = 4,tail =5)"
   ]
  },
  {
   "cell_type": "code",
   "execution_count": 31,
   "id": "0e830296",
   "metadata": {},
   "outputs": [
    {
     "data": {
      "text/plain": [
       "-1"
      ]
     },
     "execution_count": 31,
     "metadata": {},
     "output_type": "execute_result"
    }
   ],
   "source": [
    "cmp(s,str)"
   ]
  },
  {
   "cell_type": "code",
   "execution_count": 32,
   "id": "e1e4d032",
   "metadata": {},
   "outputs": [],
   "source": [
    "match(r\"we\",s)"
   ]
  },
  {
   "cell_type": "code",
   "execution_count": 33,
   "id": "0dfd9388",
   "metadata": {},
   "outputs": [
    {
     "data": {
      "text/plain": [
       "Base.RegexMatchIterator(r\"w\", \"his is computed as the number of code unit indices from i to j\\nwhich are valid character indices. With only a single string argument.\\n\", false)"
      ]
     },
     "execution_count": 33,
     "metadata": {},
     "output_type": "execute_result"
    }
   ],
   "source": [
    "eachmatch(r\"w\",str)"
   ]
  },
  {
   "cell_type": "code",
   "execution_count": 34,
   "id": "2c843ea8",
   "metadata": {},
   "outputs": [
    {
     "data": {
      "text/plain": [
       "\"his is computed as the number of code unit indices from i to j\\nwhich are valid character indices. With only a single string argument.\""
      ]
     },
     "execution_count": 34,
     "metadata": {},
     "output_type": "execute_result"
    }
   ],
   "source": [
    "strip(str)"
   ]
  },
  {
   "cell_type": "code",
   "execution_count": 36,
   "id": "aba47dd0",
   "metadata": {},
   "outputs": [
    {
     "data": {
      "text/plain": [
       "\"his is computed as the number of code unit indices from i to j\\nwhich are valid character indices. With only a single string argument.\\n\""
      ]
     },
     "execution_count": 36,
     "metadata": {},
     "output_type": "execute_result"
    }
   ],
   "source": [
    "lstrip(str)"
   ]
  },
  {
   "cell_type": "code",
   "execution_count": 37,
   "id": "8916a35f",
   "metadata": {},
   "outputs": [
    {
     "data": {
      "text/plain": [
       "\"his is computed as the number of code unit indices from i to j\\nwhich are valid character indices. With only a single string argument.\""
      ]
     },
     "execution_count": 37,
     "metadata": {},
     "output_type": "execute_result"
    }
   ],
   "source": [
    "rstrip(str)"
   ]
  },
  {
   "cell_type": "code",
   "execution_count": 38,
   "id": "129f58c2",
   "metadata": {},
   "outputs": [
    {
     "data": {
      "text/plain": [
       "24-element Vector{SubString{String}}:\n",
       " \"his\"\n",
       " \"is\"\n",
       " \"computed\"\n",
       " \"as\"\n",
       " \"the\"\n",
       " \"number\"\n",
       " \"of\"\n",
       " \"code\"\n",
       " \"unit\"\n",
       " \"indices\"\n",
       " \"from\"\n",
       " \"i\"\n",
       " \"to\"\n",
       " \"j\\nwhich\"\n",
       " \"are\"\n",
       " \"valid\"\n",
       " \"character\"\n",
       " \"indices.\"\n",
       " \"With\"\n",
       " \"only\"\n",
       " \"a\"\n",
       " \"single\"\n",
       " \"string\"\n",
       " \"argument.\\n\""
      ]
     },
     "execution_count": 38,
     "metadata": {},
     "output_type": "execute_result"
    }
   ],
   "source": [
    "split(str, \" \")"
   ]
  },
  {
   "cell_type": "code",
   "execution_count": 39,
   "id": "2a423434",
   "metadata": {},
   "outputs": [
    {
     "data": {
      "text/plain": [
       "2-element Vector{SubString{String}}:\n",
       " \"his is computed as the number of code unit indices from \"\n",
       " \"to j\\nwhich are valid character indices. With only a single string argument.\\n\""
      ]
     },
     "execution_count": 39,
     "metadata": {},
     "output_type": "execute_result"
    }
   ],
   "source": [
    "split(str, \"i \")"
   ]
  },
  {
   "cell_type": "code",
   "execution_count": 40,
   "id": "049485a8",
   "metadata": {},
   "outputs": [
    {
     "data": {
      "text/plain": [
       "2-element Vector{SubString{String}}:\n",
       " \"his is computed as the number of code unit indices from \"\n",
       " \"to j\\nwhich are valid character indices. With only a single string argument.\\n\""
      ]
     },
     "execution_count": 40,
     "metadata": {},
     "output_type": "execute_result"
    }
   ],
   "source": [
    "split(str, \"i \",limit = 2)"
   ]
  },
  {
   "cell_type": "code",
   "execution_count": 41,
   "id": "c9623536",
   "metadata": {},
   "outputs": [
    {
     "data": {
      "text/plain": [
       "\"Welcome to  the repository\""
      ]
     },
     "execution_count": 41,
     "metadata": {},
     "output_type": "execute_result"
    }
   ],
   "source": [
    "uppercasefirst(s)"
   ]
  },
  {
   "cell_type": "code",
   "execution_count": 42,
   "id": "7df2cfe6",
   "metadata": {},
   "outputs": [
    {
     "data": {
      "text/plain": [
       "'y': ASCII/Unicode U+0079 (category Ll: Letter, lowercase)"
      ]
     },
     "execution_count": 42,
     "metadata": {},
     "output_type": "execute_result"
    }
   ],
   "source": [
    "last(s)"
   ]
  },
  {
   "cell_type": "code",
   "execution_count": 45,
   "id": "aae9c283",
   "metadata": {},
   "outputs": [
    {
     "data": {
      "text/plain": [
       "\"repository\""
      ]
     },
     "execution_count": 45,
     "metadata": {},
     "output_type": "execute_result"
    }
   ],
   "source": [
    "last(s,10)"
   ]
  },
  {
   "cell_type": "code",
   "execution_count": 47,
   "id": "6500b96e",
   "metadata": {},
   "outputs": [
    {
     "data": {
      "text/plain": [
       "'W': ASCII/Unicode U+0057 (category Lu: Letter, uppercase)"
      ]
     },
     "execution_count": 47,
     "metadata": {},
     "output_type": "execute_result"
    }
   ],
   "source": [
    "first(s)"
   ]
  },
  {
   "cell_type": "code",
   "execution_count": 48,
   "id": "c92b4a61",
   "metadata": {},
   "outputs": [
    {
     "data": {
      "text/plain": [
       "\"We\""
      ]
     },
     "execution_count": 48,
     "metadata": {},
     "output_type": "execute_result"
    }
   ],
   "source": [
    "first(s,2)"
   ]
  },
  {
   "cell_type": "code",
   "execution_count": 49,
   "id": "d22916ad",
   "metadata": {},
   "outputs": [
    {
     "data": {
      "text/plain": [
       "\"Welcoie to  the repository\""
      ]
     },
     "execution_count": 49,
     "metadata": {},
     "output_type": "execute_result"
    }
   ],
   "source": [
    "replace(s,\"m\"=>\"i\")"
   ]
  },
  {
   "cell_type": "code",
   "execution_count": null,
   "id": "2de81807",
   "metadata": {},
   "outputs": [],
   "source": []
  }
 ],
 "metadata": {
  "kernelspec": {
   "display_name": "Julia 1.6.1",
   "language": "julia",
   "name": "julia-1.6"
  },
  "language_info": {
   "file_extension": ".jl",
   "mimetype": "application/julia",
   "name": "julia",
   "version": "1.6.1"
  }
 },
 "nbformat": 4,
 "nbformat_minor": 5
}
