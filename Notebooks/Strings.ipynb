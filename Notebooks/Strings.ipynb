{
 "cells": [
  {
   "cell_type": "markdown",
   "id": "f04c4dc4",
   "metadata": {},
   "source": [
    "**String is a Sequence of chracters and it is immutable**"
   ]
  },
  {
   "cell_type": "code",
   "execution_count": 7,
   "id": "245992f5",
   "metadata": {},
   "outputs": [
    {
     "data": {
      "text/plain": [
       "\"Welcome to  the repository\""
      ]
     },
     "execution_count": 7,
     "metadata": {},
     "output_type": "execute_result"
    }
   ],
   "source": [
    "s = \"Welcome to  the repository\""
   ]
  },
  {
   "cell_type": "code",
   "execution_count": 8,
   "id": "63ce16d9",
   "metadata": {},
   "outputs": [
    {
     "data": {
      "text/plain": [
       "\"Welcome to  the repository of Keshav Sharma\""
      ]
     },
     "execution_count": 8,
     "metadata": {},
     "output_type": "execute_result"
    }
   ],
   "source": [
    "sp = string(s , \" of Keshav Sharma\")\n",
    "# sp*\"hello\""
   ]
  },
  {
   "cell_type": "code",
   "execution_count": 11,
   "id": "94ffdb94",
   "metadata": {},
   "outputs": [
    {
     "data": {
      "text/plain": [
       "\"come to  \""
      ]
     },
     "execution_count": 11,
     "metadata": {},
     "output_type": "execute_result"
    }
   ],
   "source": [
    "sub = SubString(sp,4,12)"
   ]
  },
  {
   "cell_type": "code",
   "execution_count": 12,
   "id": "30292116",
   "metadata": {},
   "outputs": [
    {
     "data": {
      "text/plain": [
       "SubString{String}"
      ]
     },
     "execution_count": 12,
     "metadata": {},
     "output_type": "execute_result"
    }
   ],
   "source": [
    "typeof(sub)"
   ]
  },
  {
   "cell_type": "code",
   "execution_count": 13,
   "id": "4ddafccd",
   "metadata": {},
   "outputs": [
    {
     "data": {
      "text/plain": [
       "\"welcome to  the repository\""
      ]
     },
     "execution_count": 13,
     "metadata": {},
     "output_type": "execute_result"
    }
   ],
   "source": [
    "lowercase(s)"
   ]
  },
  {
   "cell_type": "code",
   "execution_count": 14,
   "id": "cd4fa810",
   "metadata": {},
   "outputs": [
    {
     "data": {
      "text/plain": [
       "\"WELCOME TO  THE REPOSITORY\""
      ]
     },
     "execution_count": 14,
     "metadata": {},
     "output_type": "execute_result"
    }
   ],
   "source": [
    "uppercase(s)"
   ]
  },
  {
   "cell_type": "code",
   "execution_count": 15,
   "id": "57a332a4",
   "metadata": {},
   "outputs": [
    {
     "data": {
      "text/plain": [
       "26"
      ]
     },
     "execution_count": 15,
     "metadata": {},
     "output_type": "execute_result"
    }
   ],
   "source": [
    "length(s)"
   ]
  },
  {
   "cell_type": "code",
   "execution_count": 16,
   "id": "726edc37",
   "metadata": {},
   "outputs": [
    {
     "data": {
      "text/plain": [
       "true"
      ]
     },
     "execution_count": 16,
     "metadata": {},
     "output_type": "execute_result"
    }
   ],
   "source": [
    "startswith(s,\"W\")"
   ]
  },
  {
   "cell_type": "code",
   "execution_count": 17,
   "id": "8459799b",
   "metadata": {},
   "outputs": [
    {
     "data": {
      "text/plain": [
       "false"
      ]
     },
     "execution_count": 17,
     "metadata": {},
     "output_type": "execute_result"
    }
   ],
   "source": [
    "endswith(s,\"Y\")"
   ]
  },
  {
   "cell_type": "code",
   "execution_count": 18,
   "id": "9d8d6079",
   "metadata": {},
   "outputs": [
    {
     "data": {
      "text/plain": [
       "\"his is computed as the number of code unit indices from i to j\\nwhich are valid character indices. With only a single string argument.\\n\""
      ]
     },
     "execution_count": 18,
     "metadata": {},
     "output_type": "execute_result"
    }
   ],
   "source": [
    "str = \"\"\"\n",
    "his is computed as the number of code unit indices from i to j\n",
    "which are valid character indices. With only a single string argument.\n",
    "\"\"\"\n"
   ]
  },
  {
   "cell_type": "code",
   "execution_count": 20,
   "id": "165172c1",
   "metadata": {},
   "outputs": [
    {
     "data": {
      "text/plain": [
       "6"
      ]
     },
     "execution_count": 20,
     "metadata": {},
     "output_type": "execute_result"
    }
   ],
   "source": [
    "findfirst(isequal('m'),s)"
   ]
  },
  {
   "cell_type": "code",
   "execution_count": 21,
   "id": "02bfe80b",
   "metadata": {},
   "outputs": [
    {
     "data": {
      "text/plain": [
       "6"
      ]
     },
     "execution_count": 21,
     "metadata": {},
     "output_type": "execute_result"
    }
   ],
   "source": [
    "findlast(isequal('m'),s)"
   ]
  },
  {
   "cell_type": "code",
   "execution_count": 24,
   "id": "da999d4f",
   "metadata": {},
   "outputs": [
    {
     "data": {
      "text/plain": [
       "1"
      ]
     },
     "execution_count": 24,
     "metadata": {},
     "output_type": "execute_result"
    }
   ],
   "source": [
    "findprev('h',str,4)"
   ]
  },
  {
   "cell_type": "code",
   "execution_count": 26,
   "id": "efdf1e20",
   "metadata": {},
   "outputs": [
    {
     "data": {
      "text/plain": [
       "false"
      ]
     },
     "execution_count": 26,
     "metadata": {},
     "output_type": "execute_result"
    }
   ],
   "source": [
    "occursin(\"MY\",s)"
   ]
  },
  {
   "cell_type": "code",
   "execution_count": 27,
   "id": "7c06c97f",
   "metadata": {},
   "outputs": [
    {
     "data": {
      "text/plain": [
       "\"keshavkeshavkeshavkeshavkeshavkeshavkeshavkeshavkeshavkeshavkeshavkeshavkeshavkeshavkeshavkeshavkeshavkeshavkeshavkeshavkeshavkeshavkeshavkeshavkeshavkeshavkeshavkeshavkeshavkeshavkeshavkeshavkeshavkeshavkeshavkeshavkeshavkeshavkeshavkeshavkeshavkeshavkeshavkeshavkeshavkeshavkeshavkeshavkeshavkeshav\""
      ]
     },
     "execution_count": 27,
     "metadata": {},
     "output_type": "execute_result"
    }
   ],
   "source": [
    "repeat(\"keshav\",50)"
   ]
  },
  {
   "cell_type": "code",
   "execution_count": null,
   "id": "c8eb68a8",
   "metadata": {},
   "outputs": [],
   "source": []
  }
 ],
 "metadata": {
  "kernelspec": {
   "display_name": "Julia 1.6.1",
   "language": "julia",
   "name": "julia-1.6"
  },
  "language_info": {
   "file_extension": ".jl",
   "mimetype": "application/julia",
   "name": "julia",
   "version": "1.6.1"
  }
 },
 "nbformat": 4,
 "nbformat_minor": 5
}
