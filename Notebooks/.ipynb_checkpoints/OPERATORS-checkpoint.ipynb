{
 "cells": [
  {
   "cell_type": "code",
   "execution_count": 2,
   "metadata": {},
   "outputs": [],
   "source": [
    "#=Airthmetic operators\n",
    "Arithmetic operators are used to perform arithmetic/mathematical operations on operands. These operators include the process of addition, subtraction, multiplication, division, etc. Examples: (+, -, *, /, %, +x, -x).\n",
    "Arithmetic operators are of two types:\n",
    "Unary Operators: Operators that operate or work with a single operand are unary operators. For example: (+x, -x) i.e. unary plus and unary minus.\n",
    "Binary Operators: Operators that operate or work with two operands are binary operators. For example: (+, –, *, /)\n",
    "=#"
   ]
  },
  {
   "cell_type": "code",
   "execution_count": 5,
   "metadata": {},
   "outputs": [
    {
     "name": "stdout",
     "output_type": "stream",
     "text": [
      "Addition of two no is:60\n",
      "Binary Subtraction: -30\n",
      "Binary Multiplication: 675\n",
      "Binary Division: 0.3333333333333333\n",
      "Integer Division: 0\n",
      "Inverse Division: 3.0\n",
      "Power Operation: -5963771793861770033\n",
      "Modular Division: 15\n"
     ]
    }
   ],
   "source": [
    "#Example of airthmetic operators\n",
    "a = 15\n",
    "b = 45\n",
    "#Addition of number\n",
    "add = a+b\n",
    "println(\"Addition of two no is:\",add)\n",
    "# Subtraction of numbers  \n",
    "sub = a - b \n",
    "println(\"Binary Subtraction: \", sub) \n",
    "  \n",
    "# Multiplication of number  \n",
    "mul = a * b \n",
    "println(\"Binary Multiplication: \", mul) \n",
    "  \n",
    "# Division(float) of number  \n",
    "div1 = a / b \n",
    "println(\"Binary Division: \", div1) \n",
    "  \n",
    "# Division(Integer) of number  \n",
    "div2 = a ÷ b \n",
    "println(\"Integer Division: \", div2) \n",
    "  \n",
    "# Division(floor) of number  \n",
    "div3 = a \\ b \n",
    "println(\"Inverse Division: \", div3) \n",
    "  \n",
    "# Power of number \n",
    "pow = a ^ b \n",
    "println(\"Power Operation: \", pow) \n",
    "  \n",
    "# Modulo of both number \n",
    "mod = a % b \n",
    "println(\"Modular Division: \", mod) \n"
   ]
  },
  {
   "cell_type": "code",
   "execution_count": 6,
   "metadata": {},
   "outputs": [],
   "source": [
    "#BITWISE OPERATORS\n",
    "#=Bitwise operators are used to perform manipulation of individual bits of a number.\n",
    "They can be used with any of the integer types. Examples: (~, &, |, >>, <<, etc.)\n",
    "=#\n"
   ]
  },
  {
   "cell_type": "code",
   "execution_count": 14,
   "metadata": {},
   "outputs": [
    {
     "name": "stdout",
     "output_type": "stream",
     "text": [
      "-66\n",
      "0\n",
      "119\n",
      "119\n",
      "16\n",
      "16\n",
      "260\n"
     ]
    }
   ],
   "source": [
    "#Example of bitwise operators\n",
    "a = 65\n",
    "b = 54\n",
    "  \n",
    "# Bitwise NOT operation \n",
    "println(~a)\n",
    "# Bitwise AND operation  \n",
    "println(a&b)\n",
    "# Bitwise OR operation\n",
    "println(a|b)\n",
    "# Bitwise XOR operation \n",
    "println(a ⊻ b)\n",
    "# Logical right shift operation \n",
    "println(a >>> 2) \n",
    "# Bitwise right shift operation \n",
    "println(a >> 2) \n",
    "# Bitwise left shift operation \n",
    "println(a << 2)"
   ]
  },
  {
   "cell_type": "code",
   "execution_count": 15,
   "metadata": {},
   "outputs": [],
   "source": [
    "#LOGICAL OPERATOR\n",
    "#=Logical Operators are used to combine two or more conditions/constraints \n",
    "or to complement the evaluation of the original condition \n",
    "into consideration.The result of the operation of a logical operator is a boolean\n",
    "value either true or false\n",
    "=#"
   ]
  },
  {
   "cell_type": "code",
   "execution_count": 16,
   "metadata": {},
   "outputs": [
    {
     "name": "stdout",
     "output_type": "stream",
     "text": [
      "false\n",
      "true\n",
      "false\n"
     ]
    }
   ],
   "source": [
    "# Examples of Logical Operator\n",
    "a = true\n",
    "b = false\n",
    "  \n",
    "# Print if a and b both are False\n",
    "println(a && b)\n",
    "  \n",
    "# Print if a or b is True\n",
    "println(a || b)\n",
    "  \n",
    "# Print if not a is False\n",
    "println(! a)"
   ]
  },
  {
   "cell_type": "code",
   "execution_count": 18,
   "metadata": {},
   "outputs": [],
   "source": [
    "#Assignment operators\n",
    "#=Assignment operators are used to assign value to a variable. The left side operand\n",
    "of the assignment operator is a variable and the right side operand of the assignment\n",
    "operator is a value. The value on the right side must be of the same dataTypes of the\n",
    "variable on the left side otherwise the compiler will raise an error.\n",
    "=#\n"
   ]
  },
  {
   "cell_type": "code",
   "execution_count": 19,
   "metadata": {},
   "outputs": [
    {
     "name": "stdout",
     "output_type": "stream",
     "text": [
      "a = 93\n",
      "b = 46\n",
      "Binary Addition: 139\n",
      "Binary Subtraction: 93\n",
      "Binary Multiplication: 4278\n",
      "Binary Division: 93.0\n",
      "Integer Division: 2.0\n",
      "Inverse Division: 23.0\n",
      "Power Operation: 4.359939438926726e62\n",
      "Modular Division: 18.0\n"
     ]
    }
   ],
   "source": [
    "# Examples of Assignment Operator\n",
    "a = 93\n",
    "b = 46\n",
    "\n",
    "println(\"a = \", a)\n",
    "println(\"b = \", b)\n",
    "\n",
    "# Addition of numbers\n",
    "a += b\n",
    "println(\"Binary Addition: \", a)\n",
    "\n",
    "# Subtraction of numbers\n",
    "a -= b\n",
    "println(\"Binary Subtraction: \", a)\n",
    "\n",
    "# Multiplication of number\n",
    "a *= b\n",
    "println(\"Binary Multiplication: \", a)\n",
    "\n",
    "# Division(float) of number\n",
    "a /= b\n",
    "println(\"Binary Division: \", a)\n",
    "\n",
    "# Division(Integer) of number\n",
    "a ÷= b\n",
    "println(\"Integer Division: \", a)\n",
    "\n",
    "# Division(floor) of number\n",
    "a \\= b\n",
    "println(\"Inverse Division: \", a)\n",
    "\n",
    "# Power of number\n",
    "a ^= b\n",
    "println(\"Power Operation: \", a)\n",
    "\n",
    "# Modulo of both number\n",
    "a %= b\n",
    "println(\"Modular Division: \", a)\n"
   ]
  },
  {
   "cell_type": "code",
   "execution_count": 20,
   "metadata": {},
   "outputs": [],
   "source": [
    "#Vectorized Dot operators\n",
    "#=A ‘dot’ Operator(.) is used to perform a binary operation with which it is\n",
    "used on the entire array, element by element, one by one.   \n",
    "=#\n"
   ]
  },
  {
   "cell_type": "code",
   "execution_count": 22,
   "metadata": {},
   "outputs": [
    {
     "name": "stdout",
     "output_type": "stream",
     "text": [
      "[16, 25, 36, 49]\n"
     ]
    },
    {
     "data": {
      "text/plain": [
       "4-element Vector{Int64}:\n",
       " 18\n",
       " 27\n",
       " 38\n",
       " 51"
      ]
     },
     "execution_count": 22,
     "metadata": {},
     "output_type": "execute_result"
    }
   ],
   "source": [
    "A = [4, 5, 6, 7]\n",
    "A = A .^ 2 \n",
    "println(A)\n",
    "A = A.+2"
   ]
  }
 ],
 "metadata": {
  "kernelspec": {
   "display_name": "Julia 1.6.1",
   "language": "julia",
   "name": "julia-1.6"
  },
  "language_info": {
   "file_extension": ".jl",
   "mimetype": "application/julia",
   "name": "julia",
   "version": "1.6.1"
  }
 },
 "nbformat": 4,
 "nbformat_minor": 4
}
