{
 "cells": [
  {
   "cell_type": "markdown",
   "id": "9ec0dca5",
   "metadata": {},
   "source": [
    "# Tuples\n",
    "**Tuples are used to store multiple items in a single variable**\n",
    "**It is immutable in nature and it is represented by parenthesis**\n"
   ]
  },
  {
   "cell_type": "code",
   "execution_count": 1,
   "id": "8d454209",
   "metadata": {},
   "outputs": [
    {
     "data": {
      "text/plain": [
       "(24, 45, 65, 89, 95)"
      ]
     },
     "execution_count": 1,
     "metadata": {},
     "output_type": "execute_result"
    }
   ],
   "source": [
    " t = (24,45,65,89,95)"
   ]
  },
  {
   "cell_type": "markdown",
   "id": "1e51ec73",
   "metadata": {},
   "source": [
    "**We cannot use indexing in tuples**"
   ]
  },
  {
   "cell_type": "markdown",
   "id": "5b623f4e",
   "metadata": {},
   "source": [
    "# Named Tuple\n",
    "**NamedTuple is a type of Tuple whose elements can be called in the memory location\n",
    " not just by its index value, but also by a name of the value.NamedTuples are also\n",
    " immutable, which means neither the values nor their names once defined, can be changed**"
   ]
  },
  {
   "cell_type": "code",
   "execution_count": 2,
   "id": "97da2a81",
   "metadata": {},
   "outputs": [
    {
     "data": {
      "text/plain": [
       "(a = 1, b = 2, c = 4, d = 5)"
      ]
     },
     "execution_count": 2,
     "metadata": {},
     "output_type": "execute_result"
    }
   ],
   "source": [
    "tupl2 = (a = 1, b = 2, c = 4, d = 5)"
   ]
  },
  {
   "cell_type": "code",
   "execution_count": 3,
   "id": "b0dcbd69",
   "metadata": {},
   "outputs": [
    {
     "data": {
      "text/plain": [
       "(a = 1, b = 2, c = \"Hello Guys\")"
      ]
     },
     "execution_count": 3,
     "metadata": {},
     "output_type": "execute_result"
    }
   ],
   "source": [
    "tupl3 = (a = 1, b = 2, c = \"Hello Guys\")"
   ]
  },
  {
   "cell_type": "code",
   "execution_count": 4,
   "id": "0a4a9f99",
   "metadata": {},
   "outputs": [
    {
     "name": "stdout",
     "output_type": "stream",
     "text": [
      "2\n",
      "5\n"
     ]
    }
   ],
   "source": [
    "# Accessing using Index value\n",
    "println(tupl2[2])\n",
    "println(tupl2[4])"
   ]
  },
  {
   "cell_type": "code",
   "execution_count": 5,
   "id": "69ab1e37",
   "metadata": {},
   "outputs": [
    {
     "name": "stdout",
     "output_type": "stream",
     "text": [
      "2\n",
      "Hello Guys\n"
     ]
    }
   ],
   "source": [
    "# Accessing using assigned value name\n",
    "println(tupl3[:b])\n",
    "println(tupl3.c)"
   ]
  },
  {
   "cell_type": "code",
   "execution_count": 7,
   "id": "b26a093c",
   "metadata": {},
   "outputs": [
    {
     "data": {
      "text/plain": [
       "(K = \"keshav\", R = \"rahul\", J = \"rohan\", P = \"mayank\")"
      ]
     },
     "execution_count": 7,
     "metadata": {},
     "output_type": "execute_result"
    }
   ],
   "source": [
    "Enr_no = (:K,:R,:J,:P)\n",
    "name =(\"keshav\",\"rahul\",\"rohan\",\"mayank\")\n",
    "name_id = NamedTuple{Enr_no}(name)"
   ]
  },
  {
   "cell_type": "code",
   "execution_count": 8,
   "id": "2278e7fd",
   "metadata": {},
   "outputs": [
    {
     "name": "stdout",
     "output_type": "stream",
     "text": [
      "keshav\n",
      "rahul\n",
      "rohan\n",
      "mayank\n"
     ]
    }
   ],
   "source": [
    "for i in name_id\n",
    "    println(i)\n",
    "end"
   ]
  },
  {
   "cell_type": "code",
   "execution_count": 11,
   "id": "8103a9ad",
   "metadata": {},
   "outputs": [
    {
     "data": {
      "text/plain": [
       "3-element Vector{Tuple{Int64, Int64, Int64}}:\n",
       " (45, 30, 20)\n",
       " (65, 75, 90)\n",
       " (896, 456, 123)"
      ]
     },
     "execution_count": 11,
     "metadata": {},
     "output_type": "execute_result"
    }
   ],
   "source": [
    "ar = [(45,30,20),(65,75,90),(896,456,123)]\n",
    "sort(ar)"
   ]
  },
  {
   "cell_type": "markdown",
   "id": "6cfb1b72",
   "metadata": {},
   "source": [
    "# Set"
   ]
  },
  {
   "cell_type": "markdown",
   "id": "d5e06ecd",
   "metadata": {},
   "source": [
    "**Set in Julia is a collection of elements just like other collections like arrays, dictionaries, etc.\n",
    " Each element in a set must be unique. Sets are mutable data types, which means its values can be altered,\n",
    " deleted, overwritten, etc.**"
   ]
  },
  {
   "cell_type": "code",
   "execution_count": 1,
   "id": "5cf64955",
   "metadata": {},
   "outputs": [
    {
     "data": {
      "text/plain": [
       "Set{Int64}()"
      ]
     },
     "execution_count": 1,
     "metadata": {},
     "output_type": "execute_result"
    }
   ],
   "source": [
    "s1 = Set{Int64}()"
   ]
  },
  {
   "cell_type": "code",
   "execution_count": 2,
   "id": "3b59645e",
   "metadata": {},
   "outputs": [
    {
     "data": {
      "text/plain": [
       "Set{Int64} with 4 elements:\n",
       "  65\n",
       "  656\n",
       "  68\n",
       "  85"
      ]
     },
     "execution_count": 2,
     "metadata": {},
     "output_type": "execute_result"
    }
   ],
   "source": [
    "push!(s1,65)\n",
    "push!(s1,656)\n",
    "push!(s1,68)\n",
    "push!(s1,85)"
   ]
  },
  {
   "cell_type": "code",
   "execution_count": 9,
   "id": "a6d3f80d",
   "metadata": {},
   "outputs": [
    {
     "data": {
      "text/plain": [
       "Set{String} with 5 elements:\n",
       "  \"Mumbai\"\n",
       "  \"hi\"\n",
       "  \"Ahembadabad\"\n",
       "  \"Pune\"\n",
       "  \"Surat\""
      ]
     },
     "execution_count": 9,
     "metadata": {},
     "output_type": "execute_result"
    }
   ],
   "source": [
    "c = Set{String}([\"hello\",\"hi\",\"good evening\",\"good night\"])\n",
    "city = Set{String}([\"Mumbai\",\"Pune\",\"Surat\",\"Ahembadabad\",\"hi\"])"
   ]
  },
  {
   "cell_type": "code",
   "execution_count": 5,
   "id": "2a075adf",
   "metadata": {},
   "outputs": [
    {
     "data": {
      "text/plain": [
       "true"
      ]
     },
     "execution_count": 5,
     "metadata": {},
     "output_type": "execute_result"
    }
   ],
   "source": [
    "in(\"hi\",c)"
   ]
  },
  {
   "cell_type": "code",
   "execution_count": 6,
   "id": "b71f4b03",
   "metadata": {},
   "outputs": [
    {
     "name": "stdout",
     "output_type": "stream",
     "text": [
      "hi\n",
      "hello\n",
      "good evening\n",
      "good night\n"
     ]
    }
   ],
   "source": [
    "for s in c\n",
    "    println(s)\n",
    "end"
   ]
  },
  {
   "cell_type": "code",
   "execution_count": 7,
   "id": "80b4e26d",
   "metadata": {},
   "outputs": [
    {
     "data": {
      "text/plain": [
       "Set{String} with 8 elements:\n",
       "  \"Pune\"\n",
       "  \"Surat\"\n",
       "  \"Mumbai\"\n",
       "  \"hi\"\n",
       "  \"hello\"\n",
       "  \"good evening\"\n",
       "  \"good night\"\n",
       "  \"Ahembadabad\""
      ]
     },
     "execution_count": 7,
     "metadata": {},
     "output_type": "execute_result"
    }
   ],
   "source": [
    "union(c,city)"
   ]
  },
  {
   "cell_type": "code",
   "execution_count": 11,
   "id": "61e44e2a",
   "metadata": {},
   "outputs": [
    {
     "data": {
      "text/plain": [
       "Set{String} with 1 element:\n",
       "  \"hi\""
      ]
     },
     "execution_count": 11,
     "metadata": {},
     "output_type": "execute_result"
    }
   ],
   "source": [
    "intersect(c,city)"
   ]
  },
  {
   "cell_type": "code",
   "execution_count": 12,
   "id": "e6d25945",
   "metadata": {},
   "outputs": [
    {
     "data": {
      "text/plain": [
       "Set{String} with 3 elements:\n",
       "  \"hello\"\n",
       "  \"good evening\"\n",
       "  \"good night\""
      ]
     },
     "execution_count": 12,
     "metadata": {},
     "output_type": "execute_result"
    }
   ],
   "source": [
    "setdiff(c,city)"
   ]
  },
  {
   "cell_type": "markdown",
   "id": "57cec5d9",
   "metadata": {},
   "source": [
    "# Dictionary"
   ]
  },
  {
   "cell_type": "markdown",
   "id": "6caf112a",
   "metadata": {},
   "source": [
    "**Dictionary in Julia is a collection of key-value pairs, where each value in the dictionary\n",
    "  can be accessed with its key. These key-value pairs need not be of the same data type, which\n",
    "    means a String typed key can hold a value of any type like Integer, String, float, etc\n",
    ". Keys of a dictionary can never be same, each key must be unique**"
   ]
  },
  {
   "cell_type": "code",
   "execution_count": 13,
   "id": "5e4eca2a",
   "metadata": {},
   "outputs": [
    {
     "data": {
      "text/plain": [
       "Dict{Any, Any}()"
      ]
     },
     "execution_count": 13,
     "metadata": {},
     "output_type": "execute_result"
    }
   ],
   "source": [
    "d = Dict()"
   ]
  },
  {
   "cell_type": "code",
   "execution_count": 16,
   "id": "32c44b81",
   "metadata": {},
   "outputs": [
    {
     "data": {
      "text/plain": [
       "Dict{Int32, String}()"
      ]
     },
     "execution_count": 16,
     "metadata": {},
     "output_type": "execute_result"
    }
   ],
   "source": [
    "d1 = Dict{Int32,String}()"
   ]
  },
  {
   "cell_type": "code",
   "execution_count": 17,
   "id": "43cf4c28",
   "metadata": {},
   "outputs": [
    {
     "data": {
      "text/plain": [
       "\"lion\""
      ]
     },
     "execution_count": 17,
     "metadata": {},
     "output_type": "execute_result"
    }
   ],
   "source": [
    "d[1] = \"Keshav\"\n",
    "d[2] = \"rahul\"\n",
    "d[3] = \"rohan\"\n",
    "d[4] = \"elephant\"\n",
    "d[5] = \"lion\"\n"
   ]
  },
  {
   "cell_type": "code",
   "execution_count": 18,
   "id": "4390c865",
   "metadata": {},
   "outputs": [
    {
     "data": {
      "text/plain": [
       "Dict{Any, Any} with 5 entries:\n",
       "  5 => \"lion\"\n",
       "  4 => \"elephant\"\n",
       "  2 => \"rahul\"\n",
       "  3 => \"rohan\"\n",
       "  1 => \"Keshav\""
      ]
     },
     "execution_count": 18,
     "metadata": {},
     "output_type": "execute_result"
    }
   ],
   "source": [
    "d"
   ]
  },
  {
   "cell_type": "code",
   "execution_count": 19,
   "id": "9c92bc63",
   "metadata": {},
   "outputs": [
    {
     "data": {
      "text/plain": [
       "\"Keshav\""
      ]
     },
     "execution_count": 19,
     "metadata": {},
     "output_type": "execute_result"
    }
   ],
   "source": [
    "d[1]"
   ]
  },
  {
   "cell_type": "code",
   "execution_count": 20,
   "id": "41144daf",
   "metadata": {},
   "outputs": [
    {
     "data": {
      "text/plain": [
       "Dict{Int64, Int64} with 14 entries:\n",
       "  16 => 4096\n",
       "  7  => 343\n",
       "  25 => 15625\n",
       "  28 => 21952\n",
       "  37 => 50653\n",
       "  1  => 1\n",
       "  19 => 6859\n",
       "  22 => 10648\n",
       "  4  => 64\n",
       "  13 => 2197\n",
       "  34 => 39304\n",
       "  40 => 64000\n",
       "  10 => 1000\n",
       "  31 => 29791"
      ]
     },
     "execution_count": 20,
     "metadata": {},
     "output_type": "execute_result"
    }
   ],
   "source": [
    "number = Dict(x => x^3 for x  = 1:3:40)"
   ]
  },
  {
   "cell_type": "code",
   "execution_count": 21,
   "id": "af514d29",
   "metadata": {},
   "outputs": [
    {
     "data": {
      "text/plain": [
       "true"
      ]
     },
     "execution_count": 21,
     "metadata": {},
     "output_type": "execute_result"
    }
   ],
   "source": [
    "haskey(d,1)"
   ]
  },
  {
   "cell_type": "code",
   "execution_count": 22,
   "id": "a17cde8b",
   "metadata": {},
   "outputs": [
    {
     "data": {
      "text/plain": [
       "true"
      ]
     },
     "execution_count": 22,
     "metadata": {},
     "output_type": "execute_result"
    }
   ],
   "source": [
    "in((1 => \"Keshav\"),d )"
   ]
  },
  {
   "cell_type": "code",
   "execution_count": 23,
   "id": "4ea77350",
   "metadata": {},
   "outputs": [
    {
     "data": {
      "text/plain": [
       "\"rayan\""
      ]
     },
     "execution_count": 23,
     "metadata": {},
     "output_type": "execute_result"
    }
   ],
   "source": [
    "d[6] =\"rayan\""
   ]
  },
  {
   "cell_type": "code",
   "execution_count": 24,
   "id": "a955efd9",
   "metadata": {},
   "outputs": [
    {
     "data": {
      "text/plain": [
       "KeySet for a Dict{Any, Any} with 6 entries. Keys:\n",
       "  5\n",
       "  4\n",
       "  6\n",
       "  2\n",
       "  3\n",
       "  1"
      ]
     },
     "execution_count": 24,
     "metadata": {},
     "output_type": "execute_result"
    }
   ],
   "source": [
    "keys(d)"
   ]
  },
  {
   "cell_type": "code",
   "execution_count": 25,
   "id": "404e7a45",
   "metadata": {},
   "outputs": [
    {
     "data": {
      "text/plain": [
       "ValueIterator for a Dict{Any, Any} with 6 entries. Values:\n",
       "  \"lion\"\n",
       "  \"elephant\"\n",
       "  \"rayan\"\n",
       "  \"rahul\"\n",
       "  \"rohan\"\n",
       "  \"Keshav\""
      ]
     },
     "execution_count": 25,
     "metadata": {},
     "output_type": "execute_result"
    }
   ],
   "source": [
    "values(d)"
   ]
  },
  {
   "cell_type": "code",
   "execution_count": 26,
   "id": "4d534328",
   "metadata": {},
   "outputs": [
    {
     "name": "stdout",
     "output_type": "stream",
     "text": [
      "Pair{Any, Any}(5, \"lion\")\n",
      "Pair{Any, Any}(4, \"elephant\")\n",
      "Pair{Any, Any}(6, \"rayan\")\n",
      "Pair{Any, Any}(2, \"rahul\")\n",
      "Pair{Any, Any}(3, \"rohan\")\n",
      "Pair{Any, Any}(1, \"Keshav\")\n"
     ]
    }
   ],
   "source": [
    "for data in d\n",
    "    println(data)\n",
    "end\n"
   ]
  },
  {
   "cell_type": "code",
   "execution_count": 30,
   "id": "b8db72c2",
   "metadata": {},
   "outputs": [
    {
     "name": "stdout",
     "output_type": "stream",
     "text": [
      "5 :lion\n",
      "4 :elephant\n",
      "6 :rayan\n",
      "2 :rahul\n",
      "3 :rohan\n",
      "1 :Keshav\n"
     ]
    }
   ],
   "source": [
    "for k in keys(d)\n",
    "    println(k,\" :\",d[k])\n",
    "end"
   ]
  },
  {
   "cell_type": "code",
   "execution_count": 31,
   "id": "cdcf0d09",
   "metadata": {},
   "outputs": [
    {
     "name": "stdout",
     "output_type": "stream",
     "text": [
      "1 :Keshav\n",
      "2 :rahul\n",
      "3 :rohan\n",
      "4 :elephant\n",
      "5 :lion\n",
      "6 :rayan\n"
     ]
    }
   ],
   "source": [
    " for k in sort(collect(keys(d)))\n",
    "    println(k,\" :\",d[k])\n",
    "end"
   ]
  },
  {
   "cell_type": "code",
   "execution_count": 35,
   "id": "da34e19a",
   "metadata": {},
   "outputs": [
    {
     "name": "stdout",
     "output_type": "stream",
     "text": [
      "    \u001b[36m\u001b[1mFetching:\u001b[22m\u001b[39m [========================================>]  100.0 %==========================>             ]  65.1 %\r"
     ]
    }
   ],
   "source": [
    "using Pkg\n",
    "Pkg.add(\"DataStructures\")\n"
   ]
  },
  {
   "cell_type": "code",
   "execution_count": 36,
   "id": "82626929",
   "metadata": {},
   "outputs": [],
   "source": [
    "import DataStructures"
   ]
  },
  {
   "cell_type": "code",
   "execution_count": 37,
   "id": "89117eae",
   "metadata": {},
   "outputs": [
    {
     "data": {
      "text/plain": [
       "DataStructures.SortedDict{Int64, String, Base.Order.ForwardOrdering} with 3 entries:\n",
       "  1 => \"hi\"\n",
       "  2 => \"hello\"\n",
       "  3 => \"Bye\""
      ]
     },
     "execution_count": 37,
     "metadata": {},
     "output_type": "execute_result"
    }
   ],
   "source": [
    "sd = DataStructures.SortedDict(1=>\"hi\",2=> \"hello\",3=>\"Bye\")"
   ]
  },
  {
   "cell_type": "code",
   "execution_count": null,
   "id": "f1f3fd84",
   "metadata": {},
   "outputs": [],
   "source": []
  }
 ],
 "metadata": {
  "kernelspec": {
   "display_name": "Julia 1.6.1",
   "language": "julia",
   "name": "julia-1.6"
  },
  "language_info": {
   "file_extension": ".jl",
   "mimetype": "application/julia",
   "name": "julia",
   "version": "1.6.1"
  }
 },
 "nbformat": 4,
 "nbformat_minor": 5
}
