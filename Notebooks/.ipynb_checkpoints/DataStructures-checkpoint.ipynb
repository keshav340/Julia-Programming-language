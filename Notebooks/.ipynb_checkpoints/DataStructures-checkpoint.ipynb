{
 "cells": [
  {
   "cell_type": "markdown",
   "id": "a4428ce8",
   "metadata": {},
   "source": [
    "# Tuples\n",
    "**Tuples are used to store multiple items in a single variable**\n",
    "**It is immutable in nature and it is represented by parenthesis**\n"
   ]
  },
  {
   "cell_type": "code",
   "execution_count": 1,
   "id": "0f9b5902",
   "metadata": {},
   "outputs": [
    {
     "data": {
      "text/plain": [
       "(24, 45, 65, 89, 95)"
      ]
     },
     "execution_count": 1,
     "metadata": {},
     "output_type": "execute_result"
    }
   ],
   "source": [
    " t = (24,45,65,89,95)"
   ]
  },
  {
   "cell_type": "markdown",
   "id": "5d561b5d",
   "metadata": {},
   "source": [
    "**We cannot use indexing in tuples**"
   ]
  },
  {
   "cell_type": "markdown",
   "id": "384d5219",
   "metadata": {},
   "source": [
    "# Named Tuple\n",
    "**NamedTuple is a type of Tuple whose elements can be called in the memory location\n",
    " not just by its index value, but also by a name of the value.NamedTuples are also\n",
    " immutable, which means neither the values nor their names once defined, can be changed**"
   ]
  },
  {
   "cell_type": "code",
   "execution_count": 2,
   "id": "906f19d2",
   "metadata": {},
   "outputs": [
    {
     "data": {
      "text/plain": [
       "(a = 1, b = 2, c = 4, d = 5)"
      ]
     },
     "execution_count": 2,
     "metadata": {},
     "output_type": "execute_result"
    }
   ],
   "source": [
    "tupl2 = (a = 1, b = 2, c = 4, d = 5)"
   ]
  },
  {
   "cell_type": "code",
   "execution_count": 3,
   "id": "ea755677",
   "metadata": {},
   "outputs": [
    {
     "data": {
      "text/plain": [
       "(a = 1, b = 2, c = \"Hello Guys\")"
      ]
     },
     "execution_count": 3,
     "metadata": {},
     "output_type": "execute_result"
    }
   ],
   "source": [
    "tupl3 = (a = 1, b = 2, c = \"Hello Guys\")"
   ]
  },
  {
   "cell_type": "code",
   "execution_count": 4,
   "id": "94166a76",
   "metadata": {},
   "outputs": [
    {
     "name": "stdout",
     "output_type": "stream",
     "text": [
      "2\n",
      "5\n"
     ]
    }
   ],
   "source": [
    "# Accessing using Index value\n",
    "println(tupl2[2])\n",
    "println(tupl2[4])"
   ]
  },
  {
   "cell_type": "code",
   "execution_count": 5,
   "id": "c4e1b9b8",
   "metadata": {},
   "outputs": [
    {
     "name": "stdout",
     "output_type": "stream",
     "text": [
      "2\n",
      "Hello Guys\n"
     ]
    }
   ],
   "source": [
    "# Accessing using assigned value name\n",
    "println(tupl3[:b])\n",
    "println(tupl3.c)"
   ]
  },
  {
   "cell_type": "code",
   "execution_count": 7,
   "id": "c4f18987",
   "metadata": {},
   "outputs": [
    {
     "data": {
      "text/plain": [
       "(K = \"keshav\", R = \"rahul\", J = \"rohan\", P = \"mayank\")"
      ]
     },
     "execution_count": 7,
     "metadata": {},
     "output_type": "execute_result"
    }
   ],
   "source": [
    "Enr_no = (:K,:R,:J,:P)\n",
    "name =(\"keshav\",\"rahul\",\"rohan\",\"mayank\")\n",
    "name_id = NamedTuple{Enr_no}(name)"
   ]
  },
  {
   "cell_type": "code",
   "execution_count": 8,
   "id": "fd663802",
   "metadata": {},
   "outputs": [
    {
     "name": "stdout",
     "output_type": "stream",
     "text": [
      "keshav\n",
      "rahul\n",
      "rohan\n",
      "mayank\n"
     ]
    }
   ],
   "source": [
    "for i in name_id\n",
    "    println(i)\n",
    "end"
   ]
  },
  {
   "cell_type": "code",
   "execution_count": 10,
   "id": "8bea0dd6",
   "metadata": {},
   "outputs": [
    {
     "data": {
      "text/plain": [
       "3-element Vector{Tuple{Int64, Int64, Int64}}:\n",
       " (45, 30, 20)\n",
       " (65, 75, 90)\n",
       " (896, 456, 123)"
      ]
     },
     "execution_count": 10,
     "metadata": {},
     "output_type": "execute_result"
    }
   ],
   "source": [
    "ar = [(45,30,20),(65,75,90),(896,456,123)]"
   ]
  },
  {
   "cell_type": "code",
   "execution_count": null,
   "id": "1efd4f53",
   "metadata": {},
   "outputs": [],
   "source": []
  }
 ],
 "metadata": {
  "kernelspec": {
   "display_name": "Julia 1.6.1",
   "language": "julia",
   "name": "julia-1.6"
  },
  "language_info": {
   "file_extension": ".jl",
   "mimetype": "application/julia",
   "name": "julia",
   "version": "1.6.1"
  }
 },
 "nbformat": 4,
 "nbformat_minor": 5
}
