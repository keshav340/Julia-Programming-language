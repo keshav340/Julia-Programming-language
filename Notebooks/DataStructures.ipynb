{
 "cells": [
  {
   "cell_type": "markdown",
   "id": "9ec0dca5",
   "metadata": {},
   "source": [
    "# Tuples\n",
    "**Tuples are used to store multiple items in a single variable**\n",
    "**It is immutable in nature and it is represented by parenthesis**\n"
   ]
  },
  {
   "cell_type": "code",
   "execution_count": 1,
   "id": "8d454209",
   "metadata": {},
   "outputs": [
    {
     "data": {
      "text/plain": [
       "(24, 45, 65, 89, 95)"
      ]
     },
     "execution_count": 1,
     "metadata": {},
     "output_type": "execute_result"
    }
   ],
   "source": [
    " t = (24,45,65,89,95)"
   ]
  },
  {
   "cell_type": "markdown",
   "id": "1e51ec73",
   "metadata": {},
   "source": [
    "**We cannot use indexing in tuples**"
   ]
  },
  {
   "cell_type": "markdown",
   "id": "5b623f4e",
   "metadata": {},
   "source": [
    "# Named Tuple\n",
    "**NamedTuple is a type of Tuple whose elements can be called in the memory location\n",
    " not just by its index value, but also by a name of the value.NamedTuples are also\n",
    " immutable, which means neither the values nor their names once defined, can be changed**"
   ]
  },
  {
   "cell_type": "code",
   "execution_count": 2,
   "id": "97da2a81",
   "metadata": {},
   "outputs": [
    {
     "data": {
      "text/plain": [
       "(a = 1, b = 2, c = 4, d = 5)"
      ]
     },
     "execution_count": 2,
     "metadata": {},
     "output_type": "execute_result"
    }
   ],
   "source": [
    "tupl2 = (a = 1, b = 2, c = 4, d = 5)"
   ]
  },
  {
   "cell_type": "code",
   "execution_count": 3,
   "id": "b0dcbd69",
   "metadata": {},
   "outputs": [
    {
     "data": {
      "text/plain": [
       "(a = 1, b = 2, c = \"Hello Guys\")"
      ]
     },
     "execution_count": 3,
     "metadata": {},
     "output_type": "execute_result"
    }
   ],
   "source": [
    "tupl3 = (a = 1, b = 2, c = \"Hello Guys\")"
   ]
  },
  {
   "cell_type": "code",
   "execution_count": 4,
   "id": "0a4a9f99",
   "metadata": {},
   "outputs": [
    {
     "name": "stdout",
     "output_type": "stream",
     "text": [
      "2\n",
      "5\n"
     ]
    }
   ],
   "source": [
    "# Accessing using Index value\n",
    "println(tupl2[2])\n",
    "println(tupl2[4])"
   ]
  },
  {
   "cell_type": "code",
   "execution_count": 5,
   "id": "69ab1e37",
   "metadata": {},
   "outputs": [
    {
     "name": "stdout",
     "output_type": "stream",
     "text": [
      "2\n",
      "Hello Guys\n"
     ]
    }
   ],
   "source": [
    "# Accessing using assigned value name\n",
    "println(tupl3[:b])\n",
    "println(tupl3.c)"
   ]
  },
  {
   "cell_type": "code",
   "execution_count": 7,
   "id": "b26a093c",
   "metadata": {},
   "outputs": [
    {
     "data": {
      "text/plain": [
       "(K = \"keshav\", R = \"rahul\", J = \"rohan\", P = \"mayank\")"
      ]
     },
     "execution_count": 7,
     "metadata": {},
     "output_type": "execute_result"
    }
   ],
   "source": [
    "Enr_no = (:K,:R,:J,:P)\n",
    "name =(\"keshav\",\"rahul\",\"rohan\",\"mayank\")\n",
    "name_id = NamedTuple{Enr_no}(name)"
   ]
  },
  {
   "cell_type": "code",
   "execution_count": 8,
   "id": "2278e7fd",
   "metadata": {},
   "outputs": [
    {
     "name": "stdout",
     "output_type": "stream",
     "text": [
      "keshav\n",
      "rahul\n",
      "rohan\n",
      "mayank\n"
     ]
    }
   ],
   "source": [
    "for i in name_id\n",
    "    println(i)\n",
    "end"
   ]
  },
  {
   "cell_type": "code",
   "execution_count": 11,
   "id": "8103a9ad",
   "metadata": {},
   "outputs": [
    {
     "data": {
      "text/plain": [
       "3-element Vector{Tuple{Int64, Int64, Int64}}:\n",
       " (45, 30, 20)\n",
       " (65, 75, 90)\n",
       " (896, 456, 123)"
      ]
     },
     "execution_count": 11,
     "metadata": {},
     "output_type": "execute_result"
    }
   ],
   "source": [
    "ar = [(45,30,20),(65,75,90),(896,456,123)]\n",
    "sort(ar)"
   ]
  },
  {
   "cell_type": "code",
   "execution_count": null,
   "id": "e50cad85",
   "metadata": {},
   "outputs": [],
   "source": []
  }
 ],
 "metadata": {
  "kernelspec": {
   "display_name": "Julia 1.6.1",
   "language": "julia",
   "name": "julia-1.6"
  },
  "language_info": {
   "file_extension": ".jl",
   "mimetype": "application/julia",
   "name": "julia",
   "version": "1.6.1"
  }
 },
 "nbformat": 4,
 "nbformat_minor": 5
}
